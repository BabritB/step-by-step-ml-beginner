{
  "nbformat": 4,
  "nbformat_minor": 0,
  "metadata": {
    "colab": {
      "name": "Understand_Pandas_DataFrame.ipynb",
      "provenance": [],
      "authorship_tag": "ABX9TyPbuuw14HKPFRSPRolQtMg0",
      "include_colab_link": true
    },
    "kernelspec": {
      "name": "python3",
      "display_name": "Python 3"
    }
  },
  "cells": [
    {
      "cell_type": "markdown",
      "metadata": {
        "id": "view-in-github",
        "colab_type": "text"
      },
      "source": [
        "<a href=\"https://colab.research.google.com/github/BabritB/step-by-step-ml-beginner/blob/master/Understand_Pandas_DataFrame.ipynb\" target=\"_parent\"><img src=\"https://colab.research.google.com/assets/colab-badge.svg\" alt=\"Open In Colab\"/></a>"
      ]
    },
    {
      "cell_type": "code",
      "metadata": {
        "id": "fmEByknD5JJB",
        "colab_type": "code",
        "colab": {}
      },
      "source": [
        "import numpy as np"
      ],
      "execution_count": 0,
      "outputs": []
    },
    {
      "cell_type": "code",
      "metadata": {
        "id": "fO2dqi2M5TrY",
        "colab_type": "code",
        "colab": {}
      },
      "source": [
        "import pandas as pd"
      ],
      "execution_count": 0,
      "outputs": []
    },
    {
      "cell_type": "code",
      "metadata": {
        "id": "5FlsMg495XQ9",
        "colab_type": "code",
        "colab": {}
      },
      "source": [
        "data_array = np.array([[1, 2, 3], [4, 5, 6],[7,8,9]])"
      ],
      "execution_count": 0,
      "outputs": []
    },
    {
      "cell_type": "code",
      "metadata": {
        "id": "1fbnAfKe5jJa",
        "colab_type": "code",
        "colab": {}
      },
      "source": [
        "rownames=['a','b','c']"
      ],
      "execution_count": 0,
      "outputs": []
    },
    {
      "cell_type": "code",
      "metadata": {
        "id": "ny94c2MV5wrw",
        "colab_type": "code",
        "colab": {}
      },
      "source": [
        "columnnames=['one','two','three']"
      ],
      "execution_count": 0,
      "outputs": []
    },
    {
      "cell_type": "code",
      "metadata": {
        "id": "GaA1x79m51fa",
        "colab_type": "code",
        "colab": {}
      },
      "source": [
        "data_frame=pd.DataFrame(data_array,index=rownames,columns=columnnames)"
      ],
      "execution_count": 0,
      "outputs": []
    },
    {
      "cell_type": "code",
      "metadata": {
        "id": "CzDi9aHo6rAV",
        "colab_type": "code",
        "colab": {
          "base_uri": "https://localhost:8080/",
          "height": 85
        },
        "outputId": "dd9b3c7a-85fa-4926-c6f1-8c6b6bd33dee"
      },
      "source": [
        "print(data_frame)"
      ],
      "execution_count": 8,
      "outputs": [
        {
          "output_type": "stream",
          "text": [
            "   one  two  three\n",
            "a    1    2      3\n",
            "b    4    5      6\n",
            "c    7    8      9\n"
          ],
          "name": "stdout"
        }
      ]
    },
    {
      "cell_type": "code",
      "metadata": {
        "id": "BJY-4EFI6tqk",
        "colab_type": "code",
        "colab": {
          "base_uri": "https://localhost:8080/",
          "height": 204
        },
        "outputId": "2c629285-3439-4303-bfcc-dee0c09909f6"
      },
      "source": [
        "print(data_frame.info())"
      ],
      "execution_count": 9,
      "outputs": [
        {
          "output_type": "stream",
          "text": [
            "<class 'pandas.core.frame.DataFrame'>\n",
            "Index: 3 entries, a to c\n",
            "Data columns (total 3 columns):\n",
            " #   Column  Non-Null Count  Dtype\n",
            "---  ------  --------------  -----\n",
            " 0   one     3 non-null      int64\n",
            " 1   two     3 non-null      int64\n",
            " 2   three   3 non-null      int64\n",
            "dtypes: int64(3)\n",
            "memory usage: 96.0+ bytes\n",
            "None\n"
          ],
          "name": "stdout"
        }
      ]
    },
    {
      "cell_type": "code",
      "metadata": {
        "id": "Lg7myOVt6y_g",
        "colab_type": "code",
        "colab": {
          "base_uri": "https://localhost:8080/",
          "height": 170
        },
        "outputId": "0571ffbf-6962-4766-dc42-164f185b7495"
      },
      "source": [
        "print(data_frame.describe())"
      ],
      "execution_count": 10,
      "outputs": [
        {
          "output_type": "stream",
          "text": [
            "       one  two  three\n",
            "count  3.0  3.0    3.0\n",
            "mean   4.0  5.0    6.0\n",
            "std    3.0  3.0    3.0\n",
            "min    1.0  2.0    3.0\n",
            "25%    2.5  3.5    4.5\n",
            "50%    4.0  5.0    6.0\n",
            "75%    5.5  6.5    7.5\n",
            "max    7.0  8.0    9.0\n"
          ],
          "name": "stdout"
        }
      ]
    },
    {
      "cell_type": "code",
      "metadata": {
        "id": "C09gkieu67U9",
        "colab_type": "code",
        "colab": {
          "base_uri": "https://localhost:8080/",
          "height": 34
        },
        "outputId": "203d9d98-ad1d-4312-cb24-29a3a6dc1aa7"
      },
      "source": [
        "print(data_frame.shape)"
      ],
      "execution_count": 11,
      "outputs": [
        {
          "output_type": "stream",
          "text": [
            "(3, 3)\n"
          ],
          "name": "stdout"
        }
      ]
    },
    {
      "cell_type": "code",
      "metadata": {
        "id": "TlD3Mef_7B_T",
        "colab_type": "code",
        "colab": {
          "base_uri": "https://localhost:8080/",
          "height": 34
        },
        "outputId": "a6457760-be70-4962-e0e9-7dd0cab83da5"
      },
      "source": [
        "print(data_frame.columns)"
      ],
      "execution_count": 12,
      "outputs": [
        {
          "output_type": "stream",
          "text": [
            "Index(['one', 'two', 'three'], dtype='object')\n"
          ],
          "name": "stdout"
        }
      ]
    },
    {
      "cell_type": "code",
      "metadata": {
        "id": "OUBmr_eY7O_k",
        "colab_type": "code",
        "colab": {
          "base_uri": "https://localhost:8080/",
          "height": 34
        },
        "outputId": "158a9b39-9164-4a9b-ce46-3069f1b5c3e3"
      },
      "source": [
        "print(data_frame[\"two\"].values)"
      ],
      "execution_count": 13,
      "outputs": [
        {
          "output_type": "stream",
          "text": [
            "[2 5 8]\n"
          ],
          "name": "stdout"
        }
      ]
    },
    {
      "cell_type": "code",
      "metadata": {
        "id": "mZDekVZT7Yg5",
        "colab_type": "code",
        "colab": {}
      },
      "source": [
        ""
      ],
      "execution_count": 0,
      "outputs": []
    }
  ]
}