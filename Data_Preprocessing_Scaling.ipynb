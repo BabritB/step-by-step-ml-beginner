{
  "nbformat": 4,
  "nbformat_minor": 0,
  "metadata": {
    "colab": {
      "name": "Data_Preprocessing_Scaling.ipynb",
      "provenance": [],
      "authorship_tag": "ABX9TyOo6KIjpsOrObm5WFdRsiKR",
      "include_colab_link": true
    },
    "kernelspec": {
      "name": "python3",
      "display_name": "Python 3"
    }
  },
  "cells": [
    {
      "cell_type": "markdown",
      "metadata": {
        "id": "view-in-github",
        "colab_type": "text"
      },
      "source": [
        "<a href=\"https://colab.research.google.com/github/BabritB/step-by-step-ml-beginner/blob/master/Data_Preprocessing_Scaling.ipynb\" target=\"_parent\"><img src=\"https://colab.research.google.com/assets/colab-badge.svg\" alt=\"Open In Colab\"/></a>"
      ]
    },
    {
      "cell_type": "markdown",
      "metadata": {
        "id": "IP4e3WAfWHrp",
        "colab_type": "text"
      },
      "source": [
        "## Preprocessing the data "
      ]
    },
    {
      "cell_type": "markdown",
      "metadata": {
        "id": "p6nGX-kKWVc7",
        "colab_type": "text"
      },
      "source": [
        "### Basically scaling the datapoint values to normalize and have a fast processing and reduce computaional cost.\n",
        "##### 1.Standardize numerical data (e.g. mean of 0 and standard deviation of 1) using the scale and center options.\n",
        "##### 2.Normalize numerical data (e.g. to a range of 0-1) using the range option."
      ]
    },
    {
      "cell_type": "code",
      "metadata": {
        "id": "tGUvBVIBWUdC",
        "colab_type": "code",
        "colab": {}
      },
      "source": [
        "# Standardize data (0 mean, 1 stdev)"
      ],
      "execution_count": 0,
      "outputs": []
    },
    {
      "cell_type": "code",
      "metadata": {
        "id": "JGmVdFP3W0yt",
        "colab_type": "code",
        "colab": {}
      },
      "source": [
        "from sklearn.preprocessing import StandardScaler\n",
        "import pandas as pd\n",
        "import numpy as np"
      ],
      "execution_count": 0,
      "outputs": []
    },
    {
      "cell_type": "code",
      "metadata": {
        "id": "oSQxNRwlW5iP",
        "colab_type": "code",
        "colab": {}
      },
      "source": [
        "url = \"https://goo.gl/bDdBiA\"\n",
        "names = ['preg', 'plas', 'pres', 'skin', 'test', 'mass', 'pedi', 'age', 'class']"
      ],
      "execution_count": 0,
      "outputs": []
    },
    {
      "cell_type": "code",
      "metadata": {
        "id": "jywGnBS_W8fC",
        "colab_type": "code",
        "colab": {}
      },
      "source": [
        "dataframe = pd.read_csv(url, names=names)"
      ],
      "execution_count": 0,
      "outputs": []
    },
    {
      "cell_type": "code",
      "metadata": {
        "id": "kW7Cqt1SXHdk",
        "colab_type": "code",
        "colab": {}
      },
      "source": [
        "array = dataframe.values"
      ],
      "execution_count": 0,
      "outputs": []
    },
    {
      "cell_type": "code",
      "metadata": {
        "id": "XRT9DWIEXM7x",
        "colab_type": "code",
        "colab": {
          "base_uri": "https://localhost:8080/",
          "height": 136
        },
        "outputId": "106fcb5c-8091-4f2a-b381-a09e928820c9"
      },
      "source": [
        "print(array)"
      ],
      "execution_count": 7,
      "outputs": [
        {
          "output_type": "stream",
          "text": [
            "[[  6.    148.     72.    ...   0.627  50.      1.   ]\n",
            " [  1.     85.     66.    ...   0.351  31.      0.   ]\n",
            " [  8.    183.     64.    ...   0.672  32.      1.   ]\n",
            " ...\n",
            " [  5.    121.     72.    ...   0.245  30.      0.   ]\n",
            " [  1.    126.     60.    ...   0.349  47.      1.   ]\n",
            " [  1.     93.     70.    ...   0.315  23.      0.   ]]\n"
          ],
          "name": "stdout"
        }
      ]
    },
    {
      "cell_type": "code",
      "metadata": {
        "id": "BZ2X3NigXO-k",
        "colab_type": "code",
        "colab": {}
      },
      "source": [
        "# separate array into input and output components"
      ],
      "execution_count": 0,
      "outputs": []
    },
    {
      "cell_type": "code",
      "metadata": {
        "id": "QbdA4hDLXXG1",
        "colab_type": "code",
        "colab": {}
      },
      "source": [
        "X = array[:,0:8]\n",
        "Y = array[:,8]"
      ],
      "execution_count": 0,
      "outputs": []
    },
    {
      "cell_type": "code",
      "metadata": {
        "id": "PjHltZ6SXeTs",
        "colab_type": "code",
        "colab": {}
      },
      "source": [
        "scaler = StandardScaler().fit(X)\n",
        "rescaledX = scaler.transform(X)"
      ],
      "execution_count": 0,
      "outputs": []
    },
    {
      "cell_type": "code",
      "metadata": {
        "id": "UQvfV2edX05w",
        "colab_type": "code",
        "colab": {
          "base_uri": "https://localhost:8080/",
          "height": 136
        },
        "outputId": "58c114c6-e16a-4a48-d40f-490256f54365"
      },
      "source": [
        "print(X)"
      ],
      "execution_count": 11,
      "outputs": [
        {
          "output_type": "stream",
          "text": [
            "[[  6.    148.     72.    ...  33.6     0.627  50.   ]\n",
            " [  1.     85.     66.    ...  26.6     0.351  31.   ]\n",
            " [  8.    183.     64.    ...  23.3     0.672  32.   ]\n",
            " ...\n",
            " [  5.    121.     72.    ...  26.2     0.245  30.   ]\n",
            " [  1.    126.     60.    ...  30.1     0.349  47.   ]\n",
            " [  1.     93.     70.    ...  30.4     0.315  23.   ]]\n"
          ],
          "name": "stdout"
        }
      ]
    },
    {
      "cell_type": "code",
      "metadata": {
        "id": "ywV-sgv6X3s4",
        "colab_type": "code",
        "colab": {
          "base_uri": "https://localhost:8080/",
          "height": 238
        },
        "outputId": "ce833f8a-6c83-4ef6-90c9-6395908143f8"
      },
      "source": [
        "print(rescaledX)"
      ],
      "execution_count": 12,
      "outputs": [
        {
          "output_type": "stream",
          "text": [
            "[[ 0.63994726  0.84832379  0.14964075 ...  0.20401277  0.46849198\n",
            "   1.4259954 ]\n",
            " [-0.84488505 -1.12339636 -0.16054575 ... -0.68442195 -0.36506078\n",
            "  -0.19067191]\n",
            " [ 1.23388019  1.94372388 -0.26394125 ... -1.10325546  0.60439732\n",
            "  -0.10558415]\n",
            " ...\n",
            " [ 0.3429808   0.00330087  0.14964075 ... -0.73518964 -0.68519336\n",
            "  -0.27575966]\n",
            " [-0.84488505  0.1597866  -0.47073225 ... -0.24020459 -0.37110101\n",
            "   1.17073215]\n",
            " [-0.84488505 -0.8730192   0.04624525 ... -0.20212881 -0.47378505\n",
            "  -0.87137393]]\n"
          ],
          "name": "stdout"
        }
      ]
    },
    {
      "cell_type": "code",
      "metadata": {
        "id": "N_PCf6VuYLUZ",
        "colab_type": "code",
        "colab": {}
      },
      "source": [
        "# summarize transformed data\n",
        "np.set_printoptions(precision=3)"
      ],
      "execution_count": 0,
      "outputs": []
    },
    {
      "cell_type": "code",
      "metadata": {
        "id": "T1sUhX9OYX6D",
        "colab_type": "code",
        "colab": {
          "base_uri": "https://localhost:8080/",
          "height": 102
        },
        "outputId": "ac60eab5-e076-4718-f96f-8410a92aedcc"
      },
      "source": [
        "print(rescaledX[0:5,:])"
      ],
      "execution_count": 15,
      "outputs": [
        {
          "output_type": "stream",
          "text": [
            "[[ 0.64   0.848  0.15   0.907 -0.693  0.204  0.468  1.426]\n",
            " [-0.845 -1.123 -0.161  0.531 -0.693 -0.684 -0.365 -0.191]\n",
            " [ 1.234  1.944 -0.264 -1.288 -0.693 -1.103  0.604 -0.106]\n",
            " [-0.845 -0.998 -0.161  0.155  0.123 -0.494 -0.921 -1.042]\n",
            " [-1.142  0.504 -1.505  0.907  0.766  1.41   5.485 -0.02 ]]\n"
          ],
          "name": "stdout"
        }
      ]
    },
    {
      "cell_type": "markdown",
      "metadata": {
        "id": "B7FJRdz0Ynt4",
        "colab_type": "text"
      },
      "source": [
        "#### Scaling can be done to specific columns or features also depending on the required scenario. It is not necessary to scale all the features of the data set. We will undertand it more one we will start working with some feature engineering concepts. Above is just an example that how we are reducing the magnitude of the data point for better and faster calculations."
      ]
    },
    {
      "cell_type": "code",
      "metadata": {
        "id": "g2U2YhyaYb-S",
        "colab_type": "code",
        "colab": {}
      },
      "source": [
        ""
      ],
      "execution_count": 0,
      "outputs": []
    }
  ]
}